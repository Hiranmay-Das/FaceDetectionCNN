{
 "cells": [
  {
   "cell_type": "code",
   "execution_count": null,
   "metadata": {},
   "outputs": [],
   "source": [
    "# Importing All Required Libraries\n",
    "\n",
    "import os\n",
    "import numpy as np\n",
    "import cv2\n",
    "from cv2 import imread\n",
    "from tensorflow.keras import Input\n",
    "from tensorflow.keras.backend import abs as kerasAbs\n",
    "from tensorflow.keras.models import Sequential, Model\n",
    "from tensorflow.keras.layers import Convolution2D, MaxPool2D, Flatten, Dense, Dropout, Lambda\n",
    "from matplotlib import pyplot as plt"
   ]
  },
  {
   "cell_type": "code",
   "execution_count": null,
   "metadata": {},
   "outputs": [],
   "source": [
    "# N-way K-shot Learning\n",
    "N = 6 # number of classes\n",
    "K = 5 # number of images per class\n",
    "LIMIT = 8 # number of images to be used for training"
   ]
  },
  {
   "cell_type": "code",
   "execution_count": null,
   "metadata": {},
   "outputs": [],
   "source": [
    "def load_images(path=None, label=0, mode=None):\n",
    "    if path is None:\n",
    "        raise ValueError(\"Path is not defined\")\n",
    "\n",
    "    if mode is None:\n",
    "        mode = 0\n",
    "\n",
    "    elif isinstance(mode, int):\n",
    "        if mode not in [0, 1]:\n",
    "            raise ValueError(\"Mode should be either 0 or 1\")\n",
    "\n",
    "    elif isinstance(mode, str):\n",
    "        if mode not in [\"train\", \"val\"]:\n",
    "            raise ValueError(\"Mode should be either 'train' or 'val'\")\n",
    "        mode = {\"train\":0, \"val\":1}[mode]\n",
    "\n",
    "    classes = []\n",
    "    labels = []\n",
    "    current_label = label\n",
    "    classes_dict = dict()\n",
    "    target = 0\n",
    "    valid_set = [{\"Hiranmay\", \"Neel\", \"Shilpi\"}, {\"Shreya\", \"Srijani\", \"Richa\"}][mode]\n",
    "    \n",
    "    for person in os.scandir(path):\n",
    "        if person.is_dir():\n",
    "            if person.name not in valid_set:\n",
    "                continue\n",
    "            print(f\"Loading images from {person.name}\")\n",
    "            classes_dict[person.name] = [current_label, current_label]\n",
    "            person_images = []\n",
    "            for img_no, image in enumerate(os.scandir(person.path)):\n",
    "                if image.is_file():\n",
    "                    if img_no == LIMIT:\n",
    "                        break\n",
    "                    img = imread(image.path)\n",
    "                    person_images.append(img)\n",
    "                    labels.append(target)\n",
    "                    classes_dict[person.name][1] = current_label\n",
    "                    current_label += 1\n",
    "            target += 1\n",
    "            classes.append(np.stack(person_images))\n",
    "    labels = np.vstack(labels)\n",
    "    classes = np.stack(classes)\n",
    "\n",
    "    return classes, labels, classes_dict\n"
   ]
  },
  {
   "cell_type": "code",
   "execution_count": null,
   "metadata": {},
   "outputs": [],
   "source": [
    "X_train, y_train, c_train = load_images(\"dataset/train/labelled data\", mode = 0)\n",
    "X_val, y_val, c_val = load_images(\"dataset/train/labelled data\", mode = 1)"
   ]
  },
  {
   "cell_type": "code",
   "execution_count": null,
   "metadata": {},
   "outputs": [],
   "source": [
    "\"\"\"\n",
    "FUNCTION TO TEST THE 'load_iamges' FUNCTION\n",
    "\"\"\"\n",
    "def test_load_images():\n",
    "    mode = 0\n",
    "    X = [X_train, X_val][mode]\n",
    "    y = [y_train, y_val][mode]\n",
    "    targets = ['Hiranmay', 'Neel', 'Richa', 'Shilpi', 'Shreya', 'Srijani']\n",
    "    fig, axes = plt.subplots(nrows=N//2, ncols=LIMIT, figsize=(28, 28))\n",
    "    for id, person, label in zip(range(N//2), X, y):\n",
    "        for idx, img in enumerate(person, start = 0):\n",
    "            img = cv2.cvtColor(img, cv2.COLOR_BGR2RGB)\n",
    "            axes[id, idx].imshow(img)\n",
    "            axes[id, idx].set_title(f\"{targets[id]} {idx+1}\")\n",
    "            axes[id, idx].axis('off')\n",
    "    plt.show()\n",
    "test_load_images()"
   ]
  },
  {
   "cell_type": "code",
   "execution_count": null,
   "metadata": {},
   "outputs": [],
   "source": [
    "def load_batch(batch_size, mode = None):\n",
    "    if mode is None:\n",
    "        mode = 0\n",
    "\n",
    "    elif isinstance(mode, int):\n",
    "        if mode not in [0, 1]:\n",
    "            raise ValueError(\"Mode should be either 0 or 1\")\n",
    "\n",
    "    elif isinstance(mode, str):\n",
    "        if mode not in [\"train\", \"val\"]:\n",
    "            raise ValueError(\"Mode should be either 'train' or 'val'\")\n",
    "        mode = {\"train\":0, \"val\":1}[mode]\n",
    "        \n",
    "    classes = [X_train, X_val][mode]\n",
    "    n_classes, n_samples, width, height, channels = classes.shape\n",
    "    \n",
    "    random_classes = np.random.choice(n_classes, batch_size)\n",
    "    \n",
    "    training_pairs = [np.zeros((batch_size, width, height, channels)) for _ in range(2)]\n",
    "    training_labels = np.zeros((batch_size,))\n",
    "\n",
    "    training_labels[batch_size//2:] = 1\n",
    "\n",
    "    for i in range(batch_size):\n",
    "        class_id = random_classes[i]\n",
    "        idx_1 = np.random.randint(0, n_samples)\n",
    "        training_pairs[0][i,:,:,:] = classes[class_id, idx_1].reshape(width, height, 3)\n",
    "        \n",
    "        while True:\n",
    "            idx_2 = np.random.randint(0, n_samples)\n",
    "            if idx_2 != idx_1:\n",
    "                break\n",
    "\n",
    "        if i >= batch_size // 2:\n",
    "            class_id2 = class_id \n",
    "        else: \n",
    "            class_id2 = (class_id + np.random.randint(1, n_classes)) % n_classes\n",
    "        training_pairs[1][i] = classes[class_id2, idx_2].reshape(width, height, 3)\n",
    "    \n",
    "    return training_pairs, training_labels\n",
    "        "
   ]
  },
  {
   "cell_type": "code",
   "execution_count": null,
   "metadata": {},
   "outputs": [],
   "source": [
    "\"\"\"\n",
    "FUNCTION TO TEST THE 'load_batch' FUNCTION\n",
    "\"\"\"\n",
    "batch_size = 6\n",
    "pairs, labels = load_batch(batch_size, mode = 1)\n",
    "fig, axes = plt.subplots(nrows=batch_size, ncols=2, figsize=(28, 28))\n",
    "for id, img1, img2 in zip(range(batch_size), pairs[0], pairs[1]):\n",
    "    axes[id, 0].imshow(cv2.cvtColor(img1.astype('uint8'), cv2.COLOR_BGR2RGB))\n",
    "    axes[id, 1].imshow(cv2.cvtColor(img2.astype('uint8'), cv2.COLOR_BGR2RGB))\n",
    "    axes[id, 1].set_title(f\"{labels[id]}\")\n",
    "    axes[id, 0].axis('off')\n",
    "    axes[id, 1].axis('off')\n",
    "\n",
    "plt.show()"
   ]
  },
  {
   "cell_type": "code",
   "execution_count": null,
   "metadata": {},
   "outputs": [],
   "source": [
    "def get_siamese_model(input_shape = (160, 160, 3)):\n",
    "    left_input = Input(input_shape)\n",
    "    right_input = Input(input_shape)\n",
    "\n",
    "    model = Sequential()\n",
    "    model.add(Convolution2D(64, (10, 10), activation='relu', input_shape=input_shape, data_format='channels_last'))\n",
    "    model.add(MaxPool2D())\n",
    "    model.add(Convolution2D(128, (7, 7), activation='relu'))\n",
    "    model.add(MaxPool2D())\n",
    "    model.add(Convolution2D(128, (4, 4), activation='relu'))\n",
    "    model.add(MaxPool2D())\n",
    "    model.add(Convolution2D(256, (4, 4), activation='relu'))\n",
    "    model.add(Flatten())\n",
    "    model.add(Dense(4096, activation='sigmoid'))\n",
    "\n",
    "    encoded_l = model(left_input)\n",
    "    encoded_r = model(right_input)\n",
    "\n",
    "    L1_layer = Lambda(lambda tensors:kerasAbs(tensors[0] - tensors[1]))\n",
    "    L1_distance = L1_layer([encoded_l, encoded_r])\n",
    "\n",
    "    prediction = Dense(1, activation='sigmoid')(L1_distance)\n",
    "    siamese_net = Model(inputs=[left_input, right_input], outputs=prediction)\n",
    "\n",
    "    return siamese_net\n",
    "    "
   ]
  },
  {
   "cell_type": "code",
   "execution_count": null,
   "metadata": {},
   "outputs": [],
   "source": [
    "def generate(batch_size, mode = \"train\"):\n",
    "    \"\"\"\n",
    "    a generator for batches, so model.fit_generator can be used.\n",
    "    \"\"\"\n",
    "    while True:\n",
    "        pairs, targets = load_batch(batch_size, mode)\n",
    "        yield (pairs, targets)"
   ]
  },
  {
   "cell_type": "code",
   "execution_count": null,
   "metadata": {},
   "outputs": [],
   "source": [
    "model = get_siamese_model()\n",
    "model.compile(loss='binary_crossentropy', optimizer='adam', metrics=['accuracy'])\n",
    "model.fit(generate(6, mode = \"train\"),\n",
    "          steps_per_epoch=10, \n",
    "          validation_data=generate(2, mode = \"val\"),\n",
    "          validation_steps=2, \n",
    "          epochs=10)"
   ]
  },
  {
   "cell_type": "code",
   "execution_count": null,
   "metadata": {},
   "outputs": [],
   "source": [
    "support_set = np.zeros((6, 2, 160, 160, 3))\n",
    "for i in range(6):\n",
    "    idx = np.random.randint(0, 8)\n",
    "    support_set[i,0,:,:,:] = X[i, idx].reshape(160, 160, 3).astype('uint8')\n",
    "    while True:\n",
    "        idx1 = np.random.randint(0, 8)\n",
    "        if idx1 != idx:\n",
    "            break\n",
    "    support_set[i,1,:,:,:] = X[i, idx1].reshape(160, 160, 3).astype('uint8')\n",
    "\n",
    "print(support_set[0].shape, X[0][0].shape)\n",
    "\n",
    "fig, axes = plt.subplots(nrows=6, ncols=2, figsize=(28, 28))\n",
    "for i in range(6):\n",
    "    axes[i, 0].imshow(cv2.cvtColor(support_set[i][0].astype('uint8'), cv2.COLOR_BGR2RGB))\n",
    "    axes[i, 1].imshow(cv2.cvtColor(support_set[i][1].astype('uint8'), cv2.COLOR_BGR2RGB))\n",
    "    axes[i, 0].axis('off')\n",
    "    axes[i, 1].axis('off')\n",
    "plt.show()\n"
   ]
  },
  {
   "cell_type": "code",
   "execution_count": null,
   "metadata": {},
   "outputs": [],
   "source": [
    "model.predict([support_set[0][0].reshape(1, 160, 160, 3), support_set[2][0].reshape(1, 160, 160, 3)])"
   ]
  }
 ],
 "metadata": {
  "interpreter": {
   "hash": "f1670599184d6468f4d754ad2bd74340fe9a5781719cf18df42168f9394dd1ae"
  },
  "kernelspec": {
   "display_name": "Python 3.8.10 64-bit",
   "language": "python",
   "name": "python3"
  },
  "language_info": {
   "codemirror_mode": {
    "name": "ipython",
    "version": 3
   },
   "file_extension": ".py",
   "mimetype": "text/x-python",
   "name": "python",
   "nbconvert_exporter": "python",
   "pygments_lexer": "ipython3",
   "version": "3.8.10"
  },
  "orig_nbformat": 4
 },
 "nbformat": 4,
 "nbformat_minor": 2
}
